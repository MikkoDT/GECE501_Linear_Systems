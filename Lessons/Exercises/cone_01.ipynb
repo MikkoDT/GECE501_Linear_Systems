{
 "cells": [
  {
   "cell_type": "code",
   "execution_count": 1,
   "metadata": {},
   "outputs": [],
   "source": [
    "#!/usr/bin/env python3\n",
    "# -*- coding: utf-8 -*-\n",
    "\"\"\"\n",
    "Filename: cone01.py\n",
    "\n",
    "Created on Thu Nov  9 19:23:52 2023\n",
    "by CBCO\n",
    "\n",
    "@user:       username\n",
    "@co-author:  your name if you made any change in the file.\n",
    "\n",
    "\"\"\"\n",
    "\n",
    "from ccoLib.ccoVector import *\n",
    "from ccoLib.ccoPlot   import *\n",
    "from Data.variables   import *"
   ]
  },
  {
   "cell_type": "code",
   "execution_count": 2,
   "metadata": {},
   "outputs": [
    {
     "data": {
      "text/plain": [
       "<Figure size 1600x800 with 0 Axes>"
      ]
     },
     "metadata": {},
     "output_type": "display_data"
    }
   ],
   "source": [
    "fgr01=Space3D(title=\"Figure 01\",sz=(16,8)) "
   ]
  },
  {
   "cell_type": "code",
   "execution_count": 3,
   "metadata": {},
   "outputs": [],
   "source": [
    "#sub figures\n",
    "ax1=[fgr01.Fig3D.add_subplot(1,2,1,projection=\"3d\")]\n",
    "ax1.append(fgr01.Fig3D.add_subplot(1,2,2,projection=\"3d\"))"
   ]
  },
  {
   "cell_type": "code",
   "execution_count": 4,
   "metadata": {},
   "outputs": [
    {
     "data": {
      "text/plain": [
       "'解决'"
      ]
     },
     "execution_count": 4,
     "metadata": {},
     "output_type": "execute_result"
    }
   ],
   "source": [
    "nbase=2;   \"radius of the base of the cone. nbase is a numerical variable.\" \n",
    "\"圆锥体底面的半径。 nbase 是一个数值变量。\"    \n",
    "nheight=8; \"height of the cone\"; \"圆锥体的高度\" \n",
    "res=100;   \"resolution\"; \"解决\""
   ]
  },
  {
   "cell_type": "code",
   "execution_count": 5,
   "metadata": {},
   "outputs": [],
   "source": [
    "\"The equation in cylindrical coordinate systems is expressed as follows.\"\n",
    "\"柱坐标系中的方程表示如下。\"\n",
    "srho=base*(height-z)/height\n",
    "eConeCyl=Eq(rho,srho)\n",
    "\"Note that phi is absent. It means that at any phi eConeCyl  equation holds.\"\n",
    "\"请注意，phi 不存在。 这意味着在任何 phi eConeCyl 方程都成立。\"\n",
    "\"From vector library, let's use the dictionary CaCyD.\"\n",
    "\"从向量库中，我们使用字典 CaCyD。\"\n",
    "sx=Eq(x,CaCyD[x])\n",
    "sy=Eq(y,CaCyD[y])\n",
    "sz=Eq(z,CaCyD[z],evaluate=False)"
   ]
  },
  {
   "cell_type": "code",
   "execution_count": 6,
   "metadata": {},
   "outputs": [],
   "source": [
    "\"The cone equations  https://mathworld.wolfram.com/Cone.html\"\n",
    "\"圆锥方程 https://mathworld.wolfram.com/Cone.html\"\n",
    "sdelta=2*aTan(base/height)\n",
    "ecdelta=Eq(delta,sdelta)\n",
    "ecz=Eq(z,u)\n",
    "ecx=Eq(x,(height-u)/height*base*Cos(phi))\n",
    "ecy=Eq(y,(height-u)/height*base*Sin(phi))\n",
    "\"The equations above is the converstion of cylindrical coordinate to cartesian systems.\"\n",
    "\"上面的方程是柱坐标系到笛卡尔坐标系的转换。\"\n",
    "ecx1=ecx.subs(u,z)\n",
    "ecy1=ecy.subs(u,z)\n",
    "ecx2=Eq(ecx1,rho*Cos(phi),evaluate=False)\n",
    "ecy2=Eq(ecy1,rho*Sin(phi),evaluate=False)\n",
    "\"Equation of cone in Cartesian system\"\n",
    "\"笛卡尔系统中的圆锥方程\"\n",
    "eConeCar=Eq(x**2+y**2,ecy.rhs**2+ecx.rhs**2).subs(u,z).simplify()"
   ]
  },
  {
   "cell_type": "code",
   "execution_count": 7,
   "metadata": {},
   "outputs": [
    {
     "data": {
      "text/plain": [
       "'eConeCar1 是带有数值参数的符号数学方程。'"
      ]
     },
     "execution_count": 7,
     "metadata": {},
     "output_type": "execute_result"
    }
   ],
   "source": [
    "\"eConeCar is the symbolic math equation.\"\n",
    "\"eConeCar 是符号数学方程。\"\n",
    "eConeCar1=eConeCar.subs(u,z).subs(base,nbase).subs(height,nheight).simplify()\n",
    "\"eConeCar1 is the symbolic math equation with numerical parameters.\"\n",
    "\"eConeCar1 是带有数值参数的符号数学方程。\"\n"
   ]
  },
  {
   "cell_type": "code",
   "execution_count": 8,
   "metadata": {},
   "outputs": [],
   "source": [
    "\"Cone plot 1 Cartesian meshgrid algorithm.\"\n",
    "\"锥体图 1 笛卡尔网格算法。\" \n",
    "\"From Cartesian cone equation, x^2 maximum can be obtained by making y=0 and z=0\"\n",
    "\"从笛卡尔锥方程中，通过使 y=0 和 z=0 可以获得 x^2 最大值\"\n",
    "x2max=solve(eConeCar1.subs(y,0).subs(z,0),x**2)[0]\n",
    "x2Maxe=Eq(var(\"max(x^{2})\"),x2max)\n",
    "\"The maximum and minimum x are obtained as follows.\"\n",
    "\"最大和最小 x 的获得如下。\"\n",
    "xMax=float(Sqrt(x2max))\n",
    "xMin=-float(Sqrt(x2max))"
   ]
  },
  {
   "cell_type": "code",
   "execution_count": 9,
   "metadata": {},
   "outputs": [],
   "source": [
    "\"From Cartesian cone equation, y^2 maximum can be obtained by making x=0 and z=0.\"\n",
    "\"由直角锥方程可知，使x=0、z=0即可得到y^2最大值。\"\n",
    "y2max=solve(eConeCar1.subs(x,0).subs(z,0),y**2)[0]\n",
    "y2Maxe=Eq(var(\"max(y^{2})\"),y2max)\n",
    "\"The maximum and minimum y are obtained as follows.\"\n",
    "\"最大和最小 y 的获得如下。\"\n",
    "yMax=float(Sqrt(y2max))\n",
    "yMin=-float(Sqrt(y2max))\n"
   ]
  },
  {
   "cell_type": "code",
   "execution_count": 10,
   "metadata": {},
   "outputs": [],
   "source": [
    "\"The lower and upper limit of the values of x and y are determined respectively \\\n",
    "as follows.\"\n",
    "\"x和y值的下限和上限分别确定如下。\"\n",
    "cx=linspace(xMin,xMax,res)\n",
    "cy=linspace(yMin,yMax,res)"
   ]
  },
  {
   "cell_type": "code",
   "execution_count": null,
   "metadata": {},
   "outputs": [],
   "source": []
  }
 ],
 "metadata": {
  "kernelspec": {
   "display_name": "base",
   "language": "python",
   "name": "python3"
  },
  "language_info": {
   "codemirror_mode": {
    "name": "ipython",
    "version": 3
   },
   "file_extension": ".py",
   "mimetype": "text/x-python",
   "name": "python",
   "nbconvert_exporter": "python",
   "pygments_lexer": "ipython3",
   "version": "3.11.5"
  }
 },
 "nbformat": 4,
 "nbformat_minor": 2
}
